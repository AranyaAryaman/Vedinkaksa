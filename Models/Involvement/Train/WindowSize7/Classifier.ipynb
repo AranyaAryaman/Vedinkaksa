{
 "cells": [
  {
   "cell_type": "code",
   "execution_count": 8,
   "metadata": {},
   "outputs": [
    {
     "name": "stdout",
     "output_type": "stream",
     "text": [
      "[0.18992248062015504, 0.7446969696969697, 0.768, 0.6842105263157895, 0.7572041692213366, 0.7526315789473684, 0.6015779092702169, 0.4893238434163701, 0.7584097859327217, 0.8733333333333333, 0.6705146705146705, 0.7264770240700219, 0.8939519469759735, 0.5965697240865027, 0.5039761431411531, 0.6410835214446953, 0.26628489620615603, 0.7269709543568464, 0.4756317689530686, 0.85383502170767, 0.7660753880266076, 0.9034028540065862, 0.4789983844911147, 0.7308168316831684, 0.4679966749792186, 0.8108441158348737, 0.7647058823529411, 0.6414565826330533, 0.5382830626450116, 0.6697722567287785, 0.7501605651894669, 0.8065003779289494, 0.914396887159533, 0.4674329501915709]\n"
     ]
    }
   ],
   "source": [
    "from sklearn.linear_model import LogisticRegression\n",
    "from sklearn.svm import SVC\n",
    "from sklearn.ensemble import RandomForestClassifier\n",
    "import numpy as np\n",
    "import pandas as pd\n",
    "from sklearn.datasets import load_digits\n",
    "import matplotlib.pyplot as plt\n",
    "import numpy as np\n",
    "\n",
    "def get_score(model, X_train, X_test, y_train, y_test):\n",
    "    model.fit(X_train, y_train)\n",
    "    return model.score(X_test, y_test)\n",
    "\n",
    "\n",
    "scores_logistic = []\n",
    "scores_svm = []\n",
    "scores_rf = []\n",
    "x=1\n",
    "for x in range(1,35):\n",
    "    data_train  =  pd.read_csv('Train_7_'+str(x)+'.csv')\n",
    "    data_test  =  pd.read_csv('Test_7_'+str(x)+'.csv')\n",
    "    X_train, X_test, y_train, y_test = data_train[['mem','temp','acc','rot']], data_test[['mem','temp','acc','rot']], \\\n",
    "                                        data_train['class'],data_test['class']\n",
    "    scores_svm.append(get_score(SVC(gamma='auto'), X_train, X_test, y_train, y_test))\n",
    "\n",
    "print(scores_svm)\n",
    "    "
   ]
  },
  {
   "cell_type": "code",
   "execution_count": 9,
   "metadata": {},
   "outputs": [
    {
     "name": "stdout",
     "output_type": "stream",
     "text": [
      "0.6672190906488792\n"
     ]
    }
   ],
   "source": [
    "print(np.mean(scores_svm))"
   ]
  },
  {
   "cell_type": "code",
   "execution_count": 1,
   "metadata": {},
   "outputs": [
    {
     "ename": "NameError",
     "evalue": "name 'np' is not defined",
     "output_type": "error",
     "traceback": [
      "\u001b[0;31m---------------------------------------------------------------------------\u001b[0m",
      "\u001b[0;31mNameError\u001b[0m                                 Traceback (most recent call last)",
      "\u001b[0;32m<ipython-input-1-e65a46a137f4>\u001b[0m in \u001b[0;36m<module>\u001b[0;34m()\u001b[0m\n\u001b[0;32m----> 1\u001b[0;31m \u001b[0;32mprint\u001b[0m\u001b[0;34m(\u001b[0m\u001b[0mnp\u001b[0m\u001b[0;34m.\u001b[0m\u001b[0mmax\u001b[0m\u001b[0;34m(\u001b[0m\u001b[0mscores_svm\u001b[0m\u001b[0;34m)\u001b[0m\u001b[0;34m)\u001b[0m\u001b[0;34m\u001b[0m\u001b[0m\n\u001b[0m\u001b[1;32m      2\u001b[0m \u001b[0;32mprint\u001b[0m\u001b[0;34m(\u001b[0m\u001b[0mnp\u001b[0m\u001b[0;34m.\u001b[0m\u001b[0mmin\u001b[0m\u001b[0;34m(\u001b[0m\u001b[0mscores_svm\u001b[0m\u001b[0;34m)\u001b[0m\u001b[0;34m)\u001b[0m\u001b[0;34m\u001b[0m\u001b[0m\n",
      "\u001b[0;31mNameError\u001b[0m: name 'np' is not defined"
     ]
    }
   ],
   "source": [
    "print(np.max(scores_svm))\n",
    "print(np.min(scores_svm))"
   ]
  },
  {
   "cell_type": "code",
   "execution_count": 11,
   "metadata": {},
   "outputs": [
    {
     "name": "stdout",
     "output_type": "stream",
     "text": [
      "Iteration 1 completed\n",
      "Iteration 2 completed\n",
      "Iteration 3 completed\n",
      "Iteration 4 completed\n",
      "Iteration 5 completed\n",
      "Iteration 6 completed\n",
      "Iteration 7 completed\n",
      "Iteration 8 completed\n",
      "Iteration 9 completed\n",
      "Iteration 10 completed\n",
      "Iteration 11 completed\n",
      "Iteration 12 completed\n",
      "Iteration 13 completed\n",
      "Iteration 14 completed\n",
      "Iteration 15 completed\n",
      "Iteration 16 completed\n",
      "Iteration 17 completed\n",
      "Iteration 18 completed\n",
      "Iteration 19 completed\n",
      "Iteration 20 completed\n",
      "Iteration 21 completed\n",
      "Iteration 22 completed\n",
      "Iteration 23 completed\n",
      "Iteration 24 completed\n",
      "Iteration 25 completed\n",
      "Iteration 26 completed\n",
      "Iteration 27 completed\n",
      "Iteration 28 completed\n",
      "Iteration 29 completed\n",
      "Iteration 30 completed\n",
      "Iteration 31 completed\n",
      "Iteration 32 completed\n",
      "Iteration 33 completed\n",
      "Iteration 34 completed\n",
      "[0.7189922480620154, 0.646969696969697, 0.5573333333333333, 0.6147368421052631, 0.6125076640098099, 0.7409356725146199, 0.4240631163708087, 0.2313167259786477, 0.9755351681957186, 0.696, 0.8316498316498316, 0.6818380743982495, 0.8972659486329743, 0.773303504847129, 0.4801192842942346, 0.5643340857787811, 0.3027916964924839, 0.6215767634854772, 0.4981949458483754, 0.8847081524360829, 0.9805986696230599, 0.8649835345773875, 0.6098546042003231, 0.7017326732673267, 0.40648379052369077, 0.7350585335797906, 0.7339771729587358, 0.7163865546218487, 0.9280742459396751, 0.9265010351966874, 0.5459216441875402, 0.9690098261526833, 0.8608949416342413, 0.8160919540229885]\n"
     ]
    }
   ],
   "source": [
    "for x in range(1,35):\n",
    "    data_train  =  pd.read_csv('Train_7_'+str(x)+'.csv')\n",
    "    data_test  =  pd.read_csv('Test_7_'+str(x)+'.csv')\n",
    "    X_train, X_test, y_train, y_test = data_train[['mem','temp','acc','rot']], data_test[['mem','temp','acc','rot']], \\\n",
    "                                        data_train['class'],data_test['class']\n",
    "    scores_logistic.append(get_score(LogisticRegression(solver='liblinear',multi_class='ovr'), X_train, X_test, y_train, y_test))  \n",
    "    print('Iteration '+str(x)+' completed')\n",
    "\n",
    "print(scores_logistic)"
   ]
  },
  {
   "cell_type": "code",
   "execution_count": 12,
   "metadata": {},
   "outputs": [
    {
     "name": "stdout",
     "output_type": "stream",
     "text": [
      "0.6926394687026327\n"
     ]
    }
   ],
   "source": [
    "print(np.mean(scores_logistic))"
   ]
  },
  {
   "cell_type": "code",
   "execution_count": 13,
   "metadata": {},
   "outputs": [
    {
     "name": "stdout",
     "output_type": "stream",
     "text": [
      "Iteration 1 completed\n",
      "Iteration 2 completed\n",
      "Iteration 3 completed\n",
      "Iteration 4 completed\n",
      "Iteration 5 completed\n",
      "Iteration 6 completed\n",
      "Iteration 7 completed\n",
      "Iteration 8 completed\n",
      "Iteration 9 completed\n",
      "Iteration 10 completed\n",
      "Iteration 11 completed\n",
      "Iteration 12 completed\n",
      "Iteration 13 completed\n",
      "Iteration 14 completed\n",
      "Iteration 15 completed\n",
      "Iteration 16 completed\n",
      "Iteration 17 completed\n",
      "Iteration 18 completed\n",
      "Iteration 19 completed\n",
      "Iteration 20 completed\n",
      "Iteration 21 completed\n",
      "Iteration 22 completed\n",
      "Iteration 23 completed\n",
      "Iteration 24 completed\n",
      "Iteration 25 completed\n",
      "Iteration 26 completed\n",
      "Iteration 27 completed\n",
      "Iteration 28 completed\n",
      "Iteration 29 completed\n",
      "Iteration 30 completed\n",
      "Iteration 31 completed\n",
      "Iteration 32 completed\n",
      "Iteration 33 completed\n",
      "Iteration 34 completed\n",
      "[0.501453488372093, 0.9159090909090909, 0.596, 0.76, 0.7461679950950337, 0.8122807017543859, 0.7051282051282052, 0.3736654804270463, 0.7737003058103975, 0.7253333333333334, 0.6017316017316018, 0.7203501094091904, 0.859983429991715, 0.5741983594332588, 0.4990059642147117, 0.5778781038374717, 0.2698639942734431, 0.7892116182572614, 0.5036101083032491, 0.8041485769416304, 0.8658536585365854, 0.8973655323819978, 0.5654281098546042, 0.7506188118811881, 0.5968412302576891, 0.829328404189772, 0.7761194029850746, 0.6050420168067226, 0.5436968290796597, 0.6873706004140787, 0.7829158638407193, 0.8412698412698413, 0.919260700389105, 0.43582375478927204]\n",
      "0.682545741879395\n"
     ]
    }
   ],
   "source": [
    "\n",
    "\n",
    "for x in range(1,35):\n",
    "    data_train  =  pd.read_csv('Train_7_'+str(x)+'.csv')\n",
    "    data_test  =  pd.read_csv('Test_7_'+str(x)+'.csv')\n",
    "    X_train, X_test, y_train, y_test = data_train[['mem','temp','acc','rot']], data_test[['mem','temp','acc','rot']], \\\n",
    "                                        data_train['class'],data_test['class']\n",
    "    scores_rf.append(get_score(RandomForestClassifier(n_estimators=40), X_train, X_test, y_train, y_test))  \n",
    "    print('Iteration '+str(x)+' completed')\n",
    "\n",
    "print(scores_rf)\n",
    "print(np.mean(scores_rf))"
   ]
  },
  {
   "cell_type": "code",
   "execution_count": 14,
   "metadata": {},
   "outputs": [
    {
     "name": "stdout",
     "output_type": "stream",
     "text": [
      "0.919260700389105\n"
     ]
    }
   ],
   "source": [
    "print(np.max(scores_rf))"
   ]
  },
  {
   "cell_type": "code",
   "execution_count": null,
   "metadata": {},
   "outputs": [],
   "source": []
  }
 ],
 "metadata": {
  "kernelspec": {
   "display_name": "Python 2",
   "language": "python",
   "name": "python2"
  },
  "language_info": {
   "codemirror_mode": {
    "name": "ipython",
    "version": 2
   },
   "file_extension": ".py",
   "mimetype": "text/x-python",
   "name": "python",
   "nbconvert_exporter": "python",
   "pygments_lexer": "ipython2",
   "version": "2.7.16"
  }
 },
 "nbformat": 4,
 "nbformat_minor": 2
}
